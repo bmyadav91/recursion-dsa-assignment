{
 "cells": [
  {
   "cell_type": "markdown",
   "id": "4a35cfed-39ad-4bd3-926d-9e62bafb3787",
   "metadata": {},
   "source": [
    "Q.1 Can you explain the logic and working of the Tower of Hanoi algorithm by writing a Python program?\n",
    "How does the recursion work, and how are the movements of disks between rods accomplished?"
   ]
  },
  {
   "cell_type": "code",
   "execution_count": null,
   "id": "097d943e-c762-4b76-9ed4-93e3c7cf291b",
   "metadata": {},
   "outputs": [],
   "source": [
    "# The problem involves moving a tower of disks from one rod to another, subject to the following constraints:\n",
    "\n",
    "# Only one disk can be moved at a time.\n",
    "# A disk can only be moved to the top of another rod if it's smaller than the disk already on that rod.\n",
    "# Only the top disk of a rod can be moved."
   ]
  },
  {
   "cell_type": "code",
   "execution_count": 13,
   "id": "4ec0fb0a-0e2d-43a2-bcaf-ca5cad25bad4",
   "metadata": {},
   "outputs": [
    {
     "name": "stdout",
     "output_type": "stream",
     "text": [
      "1st Disc Moved From Source to Destination\n",
      "Move Disk 2 from Source to Helper\n",
      "1st Disc Moved From Destination to Helper\n",
      "Move Disk 3 from Source to Destination\n",
      "1st Disc Moved From Helper to Source\n",
      "Move Disk 2 from Helper to Destination\n",
      "1st Disc Moved From Source to Destination\n"
     ]
    }
   ],
   "source": [
    "# Example \n",
    "def tower_hanoi(num_of_disc, source, helper, destination):\n",
    "    if num_of_disc == 1:\n",
    "        print(\"1st Disc Moved From {} to {}\".format(source,destination))\n",
    "        return\n",
    "        \n",
    "    tower_hanoi(num_of_disc-1, source, destination, helper)\n",
    "    print(\"Move Disk {} from {} to {}\".format(num_of_disc, source, destination))\n",
    "    tower_hanoi(num_of_disc-1, helper, source, destination)\n",
    "\n",
    "# driver code \n",
    "disc = 3\n",
    "result = tower_hanoi(disc, source=\"Source\", helper=\"Helper\", destination=\"Destination\")"
   ]
  },
  {
   "cell_type": "code",
   "execution_count": null,
   "id": "86c1c802-fe4d-4e90-b3bc-4d853a95f746",
   "metadata": {},
   "outputs": [],
   "source": [
    "# Q.2 Given two strings word1 and word2, return the minimum number of operations required to convert word1\n",
    "# to word2.\n",
    "# Example 1:\n",
    "# Input: word1 = \"horse\", word2 = \"ros\"\n",
    "# Output: 3\n",
    "# Explanation:\n",
    "# horse -> rorse (replace 'h' with 'r')\n",
    "# rorse -> rose (remove 'r')\n",
    "# rose -> ros (remove 'e')\n",
    "# Example 2:\n",
    "# Input: word1 = \"intention\", word2 = \"execution\"\n",
    "# Output: 5\n",
    "# Explanation:\n",
    "# intention -> inention (remove 't')\n",
    "# inention -> enention (replace 'i' with 'e')\n",
    "# enention -> exention (replace 'n' with 'x')\n",
    "# exention -> exection (replace 'n' with 'c')\n",
    "# exection -> execution (insert 'u')"
   ]
  },
  {
   "cell_type": "code",
   "execution_count": 52,
   "id": "aa312266-d39d-4d36-9ede-7b0a9585461b",
   "metadata": {},
   "outputs": [
    {
     "name": "stdout",
     "output_type": "stream",
     "text": [
      "Example 1 Output: 3\n",
      "Example 2 Output: 5\n"
     ]
    }
   ],
   "source": [
    "def min_distance_recursive(word1, word2, i, j):\n",
    "    # Base case: If one of the words is empty, return the length of the other word\n",
    "    if i == 0:\n",
    "        return j\n",
    "    elif j == 0:\n",
    "        return i\n",
    "    \n",
    "    # Case: Characters at the current positions are the same, no additional cost\n",
    "    if word1[i - 1] == word2[j - 1]:\n",
    "        return min_distance_recursive(word1, word2, i - 1, j - 1)\n",
    "    \n",
    "    else:\n",
    "        # Explore three possible operations: insert, delete, replace\n",
    "        insert_cost = 1 + min_distance_recursive(word1, word2, i, j - 1)\n",
    "        delete_cost = 1 + min_distance_recursive(word1, word2, i - 1, j)\n",
    "        replace_cost = 1 + min_distance_recursive(word1, word2, i - 1, j - 1)\n",
    "        \n",
    "        # Return the minimum cost among the three operations\n",
    "        return min(insert_cost, delete_cost, replace_cost)\n",
    "\n",
    "def min_distance(word1, word2):\n",
    "    m, n = len(word1), len(word2)\n",
    "    \n",
    "    # Call the recursive helper function with the lengths of both words\n",
    "    return min_distance_recursive(word1, word2, m, n)\n",
    "\n",
    "# Example usage\n",
    "print(\"Example 1 Output:\",min_distance(\"horse\", \"ros\"))\n",
    "print(\"Example 2 Output:\",min_distance(\"intention\", \"execution\"))\n"
   ]
  },
  {
   "cell_type": "code",
   "execution_count": 35,
   "id": "4bdb0e5a-85fe-4c6f-9f3f-03f28a9e1d6f",
   "metadata": {
    "scrolled": true
   },
   "outputs": [
    {
     "name": "stdout",
     "output_type": "stream",
     "text": [
      "Maximum value: 22\n"
     ]
    }
   ],
   "source": [
    "def max_value_recursive(arr, start, end):\n",
    "    # Base case: if the array has only one element, return that element\n",
    "    if start == end:\n",
    "        return arr[start]\n",
    "\n",
    "    # Divide the array into two halves\n",
    "    mid = (start + end) // 2\n",
    "\n",
    "    # Recursively find the maximum in each half\n",
    "    max_left = max_value_recursive(arr, start, mid)\n",
    "    max_right = max_value_recursive(arr, mid + 1, end)\n",
    "\n",
    "    # Compare the maximum values of the two halves directly\n",
    "    if max_left > max_right:\n",
    "        return max_left\n",
    "    else:\n",
    "        return max_right\n",
    "\n",
    "# Example usage\n",
    "my_array = [13, 1, -3, 22, 5]\n",
    "max_val = max_value_recursive(my_array, 0, len(my_array) - 1)\n",
    "print(\"Maximum value:\", max_val)\n"
   ]
  },
  {
   "cell_type": "code",
   "execution_count": null,
   "id": "06ad4783-6b0a-40cc-8f43-f797f628d973",
   "metadata": {},
   "outputs": [],
   "source": [
    "# Q.4 Find the sum of the values of the array [92, 23, 15, -20, 10]."
   ]
  },
  {
   "cell_type": "code",
   "execution_count": 48,
   "id": "4dbc51c7-5762-4bf7-bf49-f4dc936f3434",
   "metadata": {},
   "outputs": [
    {
     "name": "stdout",
     "output_type": "stream",
     "text": [
      "Sum of the array: 120\n"
     ]
    }
   ],
   "source": [
    "def array_sum_recursive(arr, start, end):\n",
    "    # Base case: if the array has only one element, return that element\n",
    "    if start == end:\n",
    "        return arr[start]\n",
    "\n",
    "    # Divide the array into two halves\n",
    "    mid = (start + end) // 2\n",
    "\n",
    "    # Recursively find the sum in each half\n",
    "    sum_left = array_sum_recursive(arr, start, mid)\n",
    "    sum_right = array_sum_recursive(arr, mid + 1, end)\n",
    "\n",
    "    # Combine the sums of the two halves\n",
    "    return sum_left + sum_right\n",
    "\n",
    "# Example usage\n",
    "my_array = [92, 23, 15, -20, 10]\n",
    "array_sum = array_sum_recursive(my_array, 0, len(my_array) - 1)\n",
    "print(\"Sum of the array:\", array_sum)\n"
   ]
  },
  {
   "cell_type": "code",
   "execution_count": null,
   "id": "04c6e544-f14b-47ef-947f-a71fd3b031bb",
   "metadata": {},
   "outputs": [],
   "source": [
    "# Q.5 Given a number n. Print if it is an armstrong number or not.An armstrong number is a number if the sum\n",
    "# of every digit in that number raised to the power of total digits in that number is equal to the number.\n",
    "# Example : 153 = 1^3 + 5^3 + 3^3 = 1 + 125 + 27 = 153 hence 153 is an armstrong number. (Easy)\n",
    "# Input1 : 153\n",
    "# Output1 : Yes\n",
    "# Input 2 : 134\n",
    "# Output2 : No"
   ]
  },
  {
   "cell_type": "code",
   "execution_count": 83,
   "id": "94ca2f36-7916-43a8-a733-22f29bef8b21",
   "metadata": {},
   "outputs": [
    {
     "name": "stdout",
     "output_type": "stream",
     "text": [
      "with '153' is armstrong True\n",
      "with '134' is armstrong False\n"
     ]
    }
   ],
   "source": [
    "# count digits\n",
    "def count_digit(n):\n",
    "    if n==0:\n",
    "        return 0\n",
    "    else:\n",
    "        return 1 + count_digit(n//10)\n",
    "\n",
    "# calculate values\n",
    "def calc_armstrong(n, power=None):\n",
    "    if power is None:\n",
    "        power = count_digit(n)\n",
    "\n",
    "    if n==0:\n",
    "        return 0\n",
    "    else:\n",
    "        return (n%10) ** power + calc_armstrong(n//10, power)\n",
    "\n",
    "# check if true armstrong \n",
    "def check_armstrong(num):\n",
    "    power = count_digit(num)\n",
    "    return num == calc_armstrong(num, power)\n",
    "\n",
    "number = 153\n",
    "number2 = 134\n",
    "print(f\"with '{number}' is armstrong {check_armstrong(number)}\")\n",
    "print(f\"with '{number2}' is armstrong {check_armstrong(number2)}\")"
   ]
  }
 ],
 "metadata": {
  "kernelspec": {
   "display_name": "Python 3 (ipykernel)",
   "language": "python",
   "name": "python3"
  },
  "language_info": {
   "codemirror_mode": {
    "name": "ipython",
    "version": 3
   },
   "file_extension": ".py",
   "mimetype": "text/x-python",
   "name": "python",
   "nbconvert_exporter": "python",
   "pygments_lexer": "ipython3",
   "version": "3.12.0"
  }
 },
 "nbformat": 4,
 "nbformat_minor": 5
}
